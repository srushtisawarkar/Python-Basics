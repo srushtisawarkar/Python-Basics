{
  "nbformat": 4,
  "nbformat_minor": 0,
  "metadata": {
    "colab": {
      "provenance": []
    },
    "kernelspec": {
      "name": "python3",
      "display_name": "Python 3"
    },
    "language_info": {
      "name": "python"
    }
  },
  "cells": [
    {
      "cell_type": "markdown",
      "source": [
        "# Theory Questions"
      ],
      "metadata": {
        "id": "MtZ40AOvoc1j"
      }
    },
    {
      "cell_type": "markdown",
      "source": [
        "1. What is Python, and why is it popular?\n",
        "-Python is a simple, high-level programming language.\n",
        "It's popular because it's easy to learn, has many libraries, and is used in web development, data science, and automation.\n",
        "\n",
        "2. What is an interpreter in Python?\n",
        "-An interpreter in Python is a program that executes code line by line, converting it into machine code so the computer can run it.\n",
        "\n",
        "3. What are pre-defined keywords in Python?\n",
        "-Pre-defined keywords are reserved words that have special meaning in Python, like if, for, True, etc.\n",
        "\n",
        "4. Can keywords be used as variable names?\n",
        "-No, keywords cannot be used as variable names in Python.\n",
        "\n",
        "5. What is mutability in Python?\n",
        "-Mutability means whether a value (like a list) can be changed after creation.\n",
        "\n",
        "6. Why are lists mutable, but tuples are immutable?\n",
        "-Lists allow changes to their items, but tuples are fixed and cannot be changed after creation.\n",
        "\n",
        "7. What is the difference between “==” and “is” operators in Python?\n",
        "-== checks if values are equal; is checks if both refer to the same object in memory.\n",
        "\n",
        "8. What are logical operators in Python?\n",
        "-Logical operators are and, or, and not, used to combine conditions.\n",
        "\n",
        "9. What is type casting in Python?\n",
        "-Type casting means converting one data type to another, like from int to float.\n",
        "\n",
        "10. What is the difference between implicit and explicit type casting?\n",
        "-Implicit: Python automatically changes the type.\n",
        " Explicit: You manually change the type using functions like int(), str().\n",
        "\n",
        "11.  What is the purpose of conditional statements in Python?\n",
        "-They control the flow of a program based on conditions (e.g., if, else).\n",
        "\n",
        "12. How does the elif statement work?\n",
        "-elif checks another condition if the previous if was false.\n",
        "\n",
        "13. What is the difference between for and while loops?\n",
        "-for loop runs a fixed number of times.\n",
        "while loop runs as long as a condition is true.\n",
        "\n",
        "14. Describe a scenario where a while loop is more suitable than a for loop.\n",
        "When you don't know how many times to repeat the loop, like asking a user for a correct password until they enter it right.\n",
        "\n"
      ],
      "metadata": {
        "id": "TE9SAzWzozxl"
      }
    },
    {
      "cell_type": "markdown",
      "source": [
        "# Practical Questions"
      ],
      "metadata": {
        "id": "PzLFPaIcF7Pz"
      }
    },
    {
      "cell_type": "code",
      "source": [
        "#1 Write a Python program to print \"Hello, World!\"\n",
        "print(\"Hello, World!\")"
      ],
      "metadata": {
        "colab": {
          "base_uri": "https://localhost:8080/"
        },
        "id": "CZrZFYLWGLZ2",
        "outputId": "120edb29-b235-4825-db58-38d913fb7e40"
      },
      "execution_count": null,
      "outputs": [
        {
          "output_type": "stream",
          "name": "stdout",
          "text": [
            "Hello, World!\n"
          ]
        }
      ]
    },
    {
      "cell_type": "code",
      "source": [
        "#2 Write a Python program that displays your name and age\n",
        "name=\"Srushti\"\n",
        "age=20\n",
        "print(\"My name is\",name)\n",
        "print(\"My age is\",age)"
      ],
      "metadata": {
        "colab": {
          "base_uri": "https://localhost:8080/"
        },
        "id": "qUH-dnh0Gp_1",
        "outputId": "4124426f-e3a3-498c-9d0b-e59a25ab2c65"
      },
      "execution_count": null,
      "outputs": [
        {
          "output_type": "stream",
          "name": "stdout",
          "text": [
            "My name is Srushti\n",
            "My age is 20\n"
          ]
        }
      ]
    },
    {
      "cell_type": "code",
      "source": [
        "#3 Write code to print all the pre-defined keywords in Python using the keyword library\n",
        "import keyword\n",
        "print(keyword.kwlist)"
      ],
      "metadata": {
        "colab": {
          "base_uri": "https://localhost:8080/"
        },
        "id": "fbrsYnphHgvw",
        "outputId": "98269c3c-1d76-48fe-b776-59db9587db79"
      },
      "execution_count": null,
      "outputs": [
        {
          "output_type": "stream",
          "name": "stdout",
          "text": [
            "['False', 'None', 'True', 'and', 'as', 'assert', 'async', 'await', 'break', 'class', 'continue', 'def', 'del', 'elif', 'else', 'except', 'finally', 'for', 'from', 'global', 'if', 'import', 'in', 'is', 'lambda', 'nonlocal', 'not', 'or', 'pass', 'raise', 'return', 'try', 'while', 'with', 'yield']\n"
          ]
        }
      ]
    },
    {
      "cell_type": "code",
      "source": [
        "#4 Write a program that checks if a given word is a Python keyword.\n",
        "import keyword\n",
        "word=input(\"Enter a word: \")\n",
        "if keyword.iskeyword(word):\n",
        "  print(word,\"is a keyword\")\n",
        "else:\n",
        "  print(word,\"is not a keyword\")"
      ],
      "metadata": {
        "colab": {
          "base_uri": "https://localhost:8080/"
        },
        "id": "Sw7aRtotIKCu",
        "outputId": "265e3d13-cc3b-4631-a132-530c34c3ee80"
      },
      "execution_count": null,
      "outputs": [
        {
          "output_type": "stream",
          "name": "stdout",
          "text": [
            "Enter a word: if\n",
            "if is a keyword\n"
          ]
        }
      ]
    },
    {
      "cell_type": "code",
      "source": [
        "#5 Create a list and tuple in Python, and demonstrate how attempting to change an element works differently for each.\n",
        "list1=[23,\"Srushti\",10,44]\n",
        "tuple1=(1,2,3,4)\n",
        "\n",
        "list1[0]=5.6\n",
        "print(list1)\n",
        "tuple1[0]=5\n",
        "print(tuple1)               #error due to immutability"
      ],
      "metadata": {
        "colab": {
          "base_uri": "https://localhost:8080/",
          "height": 219
        },
        "id": "7O1IdzQQKU_-",
        "outputId": "13b0b4c1-bc9a-4cfb-cbbb-0fb6bf3e4694"
      },
      "execution_count": null,
      "outputs": [
        {
          "output_type": "stream",
          "name": "stdout",
          "text": [
            "[5.6, 'Srushti', 10, 44]\n"
          ]
        },
        {
          "output_type": "error",
          "ename": "TypeError",
          "evalue": "'tuple' object does not support item assignment",
          "traceback": [
            "\u001b[0;31m---------------------------------------------------------------------------\u001b[0m",
            "\u001b[0;31mTypeError\u001b[0m                                 Traceback (most recent call last)",
            "\u001b[0;32m<ipython-input-10-6d82bb3c34ca>\u001b[0m in \u001b[0;36m<cell line: 0>\u001b[0;34m()\u001b[0m\n\u001b[1;32m      5\u001b[0m \u001b[0mlist1\u001b[0m\u001b[0;34m[\u001b[0m\u001b[0;36m0\u001b[0m\u001b[0;34m]\u001b[0m\u001b[0;34m=\u001b[0m\u001b[0;36m5.6\u001b[0m\u001b[0;34m\u001b[0m\u001b[0;34m\u001b[0m\u001b[0m\n\u001b[1;32m      6\u001b[0m \u001b[0mprint\u001b[0m\u001b[0;34m(\u001b[0m\u001b[0mlist1\u001b[0m\u001b[0;34m)\u001b[0m\u001b[0;34m\u001b[0m\u001b[0;34m\u001b[0m\u001b[0m\n\u001b[0;32m----> 7\u001b[0;31m \u001b[0mtuple1\u001b[0m\u001b[0;34m[\u001b[0m\u001b[0;36m0\u001b[0m\u001b[0;34m]\u001b[0m\u001b[0;34m=\u001b[0m\u001b[0;36m5\u001b[0m\u001b[0;34m\u001b[0m\u001b[0;34m\u001b[0m\u001b[0m\n\u001b[0m\u001b[1;32m      8\u001b[0m \u001b[0mprint\u001b[0m\u001b[0;34m(\u001b[0m\u001b[0mtuple1\u001b[0m\u001b[0;34m)\u001b[0m\u001b[0;34m\u001b[0m\u001b[0;34m\u001b[0m\u001b[0m\n",
            "\u001b[0;31mTypeError\u001b[0m: 'tuple' object does not support item assignment"
          ]
        }
      ]
    },
    {
      "cell_type": "code",
      "source": [
        "#6 Write a function to demonstrate the behavior of mutable and immutable arguments.\n",
        "Functions are not tought till now"
      ],
      "metadata": {
        "id": "Ww9GVMi2NAGz"
      },
      "execution_count": null,
      "outputs": []
    },
    {
      "cell_type": "code",
      "source": [
        "#7 Write a program that performs basic arithmetic operations on two user-input numbers\n",
        "num1=int(input(\"Enter first number: \"))\n",
        "num2=int(input(\"Enter second number:\"))\n",
        "print(\"Addition: \",num1+num2)\n",
        "print(\"Substraction: \",num1-num2)\n",
        "print(\"Multiplication: \",num1*num2)\n",
        "print(\"Division: \",num1/num2)"
      ],
      "metadata": {
        "colab": {
          "base_uri": "https://localhost:8080/"
        },
        "id": "yQenerHJNf4P",
        "outputId": "dbd639ce-48be-4d8d-8109-ac353c4de55f"
      },
      "execution_count": null,
      "outputs": [
        {
          "output_type": "stream",
          "name": "stdout",
          "text": [
            "Enter first number: 10\n",
            "Enter second number:20\n",
            "Addition:  30\n",
            "Substraction:  -10\n",
            "Multiplication:  200\n",
            "Division:  0.5\n"
          ]
        }
      ]
    },
    {
      "cell_type": "code",
      "source": [
        "#8 Write a program to demonstrate the use of logical operators.\n",
        "age=int(input(\"Enter an age: \"))\n",
        "status=\"student\"\n",
        "if age>18 and status==\"student\":\n",
        "  print(\"Eligible\")\n",
        "elif age<18 or status==\"student\":\n",
        "  print(\"Not Eligible\")\n",
        "else:\n",
        "  print(\"Not Eligible\")\n",
        "\n"
      ],
      "metadata": {
        "colab": {
          "base_uri": "https://localhost:8080/"
        },
        "id": "2PQQQyn573GY",
        "outputId": "86d37ed6-0918-41dc-edf5-ea20f38b7b4c"
      },
      "execution_count": null,
      "outputs": [
        {
          "output_type": "stream",
          "name": "stdout",
          "text": [
            "Enter an age: 18\n",
            "Not Eligible\n"
          ]
        }
      ]
    },
    {
      "cell_type": "code",
      "source": [
        "#9 Write a Python program to convert user input from string to integer, float, and boolean types.\n",
        "num=input(\"Enter a something: \")\n",
        "print(\"AS int:\", int(num))\n",
        "print(\"AS float:\", float(num))\n",
        "print(\"As boolean:\", bool(num))"
      ],
      "metadata": {
        "colab": {
          "base_uri": "https://localhost:8080/"
        },
        "id": "Ia6zejHGBCZy",
        "outputId": "4532d652-18c9-4595-f3b5-2eb86380b3ce"
      },
      "execution_count": null,
      "outputs": [
        {
          "output_type": "stream",
          "name": "stdout",
          "text": [
            "Enter a something: 25\n",
            "AS int: 25\n",
            "AS float: 25.0\n",
            "As boolean: True\n"
          ]
        }
      ]
    },
    {
      "cell_type": "code",
      "source": [
        "#10 Write code to demonstrate type casting with list elements.\n",
        "list2=[23,\"88\",4.5,100]\n",
        "new_list=[int(x) for x in list2]\n",
        "print(\"Modified List: \",new_list)"
      ],
      "metadata": {
        "id": "KlZhY48fJIY7",
        "colab": {
          "base_uri": "https://localhost:8080/"
        },
        "outputId": "2317e999-89b0-42d3-ad29-7e97834cbe8c"
      },
      "execution_count": 2,
      "outputs": [
        {
          "output_type": "stream",
          "name": "stdout",
          "text": [
            "Modified List:  [23, 88, 4, 100]\n"
          ]
        }
      ]
    },
    {
      "cell_type": "code",
      "source": [
        "#11 Write a program that checks if a number is positive, negative, or zero.\n",
        "num=int(input(\"Enter a number: \"))\n",
        "if num>0:\n",
        "  print(num,\"is positive\")\n",
        "elif num<0:\n",
        "  print(num,\"is negative\")\n",
        "else:\n",
        "  print(num,\"is zero\")\n"
      ],
      "metadata": {
        "id": "bCutL5_0KZe5",
        "colab": {
          "base_uri": "https://localhost:8080/"
        },
        "outputId": "27a134bd-e7ca-4ead-f5af-6564b88f1ac6"
      },
      "execution_count": 3,
      "outputs": [
        {
          "output_type": "stream",
          "name": "stdout",
          "text": [
            "Enter a number: -34\n",
            "-34 is negative\n"
          ]
        }
      ]
    },
    {
      "cell_type": "code",
      "source": [
        "#12 Write a for loop to print numbers from 1 to 10.\n",
        "for i in range(1,11):\n",
        "  print(i)"
      ],
      "metadata": {
        "id": "3wsb5QHWLMz1",
        "colab": {
          "base_uri": "https://localhost:8080/"
        },
        "outputId": "9c7ac195-409d-4b97-f8f2-f0180778f354"
      },
      "execution_count": 5,
      "outputs": [
        {
          "output_type": "stream",
          "name": "stdout",
          "text": [
            "1\n",
            "2\n",
            "3\n",
            "4\n",
            "5\n",
            "6\n",
            "7\n",
            "8\n",
            "9\n",
            "10\n"
          ]
        }
      ]
    },
    {
      "cell_type": "code",
      "source": [
        "#13 Write a Python program to find the sum of all even numbers between 1 and 50.\n",
        "sum=0\n",
        "for i in range(2,51,2):\n",
        "  sum+=i\n",
        "print(\"Sum of all even numbers between 1 and 50: \",sum)"
      ],
      "metadata": {
        "id": "E_kpDkK8Lp0N",
        "colab": {
          "base_uri": "https://localhost:8080/"
        },
        "outputId": "f58735a6-36f5-4d87-9ffc-febee248b478"
      },
      "execution_count": 6,
      "outputs": [
        {
          "output_type": "stream",
          "name": "stdout",
          "text": [
            "Sum of all even numbers between 1 and 50:  650\n"
          ]
        }
      ]
    },
    {
      "cell_type": "code",
      "source": [
        "#14 Write a program to reverse a string using a while loop.\n",
        "a=\"srushti\"\n",
        "i=len(a)-1                    #len=7\n",
        "rev=\"\"\n",
        "\n",
        "while i>=0:\n",
        "  rev += a[i]\n",
        "  i -= 1\n",
        "print(rev)\n",
        "\n"
      ],
      "metadata": {
        "id": "Yl6IfIn5OWDH",
        "colab": {
          "base_uri": "https://localhost:8080/"
        },
        "outputId": "0f4d6500-592e-498d-f402-13b41269be42"
      },
      "execution_count": 14,
      "outputs": [
        {
          "output_type": "stream",
          "name": "stdout",
          "text": [
            "ithsurs\n"
          ]
        }
      ]
    },
    {
      "cell_type": "code",
      "source": [
        "#14 Write a program to reverse a string using a while loop.\n",
        "n=input(\"Enter a string:\")\n",
        "i=len(n)-1\n",
        "rev=\"\"\n",
        "\n",
        "while i>=0:\n",
        "  rev += n[i]\n",
        "  i -= 1\n",
        "print(rev)\n"
      ],
      "metadata": {
        "colab": {
          "base_uri": "https://localhost:8080/"
        },
        "id": "WbVnJZP8XuPq",
        "outputId": "1dedd7fc-daf3-4ef1-8f09-06e305c3ca78"
      },
      "execution_count": 16,
      "outputs": [
        {
          "output_type": "stream",
          "name": "stdout",
          "text": [
            "Enter a string:sawarkar\n",
            "rakrawas\n"
          ]
        }
      ]
    },
    {
      "cell_type": "code",
      "source": [
        "#15 Write a Python program to calculate the factorial of a number provided by the user using a while loop.\n",
        "n=int(input(\"Enter a number:\"))\n",
        "mul=1\n",
        "while n>0:\n",
        "  mul = mul*n\n",
        "  n-=1\n",
        "print(\"Factorial: \", mul)"
      ],
      "metadata": {
        "colab": {
          "base_uri": "https://localhost:8080/"
        },
        "id": "-neqlx5wYRxA",
        "outputId": "86a48eb3-928e-4d6a-b4cf-dd7b5a34914b"
      },
      "execution_count": 20,
      "outputs": [
        {
          "output_type": "stream",
          "name": "stdout",
          "text": [
            "Enter a number:5\n",
            "Factorial:  120\n"
          ]
        }
      ]
    }
  ]
}